{
 "cells": [
  {
   "cell_type": "code",
   "id": "2f458dfb-56f7-4162-a4d9-cc8158a03f5f",
   "metadata": {
    "jupyter": {
     "is_executing": true
    }
   },
   "source": [
    "import numpy as np\n",
    "import pandas as pd"
   ],
   "outputs": [],
   "execution_count": null
  },
  {
   "cell_type": "code",
   "id": "1970d900-383f-424f-a92e-94bbc2e2711b",
   "metadata": {
    "jupyter": {
     "is_executing": true
    }
   },
   "source": [
    "match = pd.read_csv('matches.csv')\n",
    "delivery = pd.read_csv('deliveries.csv')"
   ],
   "outputs": [],
   "execution_count": null
  },
  {
   "cell_type": "code",
   "id": "b10dd872-21bc-4ffb-95df-cc0cea6f8f3d",
   "metadata": {
    "jupyter": {
     "is_executing": true
    }
   },
   "source": [
    "match\n"
   ],
   "outputs": [],
   "execution_count": null
  },
  {
   "cell_type": "code",
   "id": "ac9ebe8e-acc9-433c-b596-024ca08fcdb0",
   "metadata": {
    "jupyter": {
     "is_executing": true
    }
   },
   "source": [
    "match.head()"
   ],
   "outputs": [],
   "execution_count": null
  },
  {
   "cell_type": "code",
   "id": "9b56d85b-37f1-4168-a2e9-fc4797cc228d",
   "metadata": {
    "jupyter": {
     "is_executing": true
    }
   },
   "source": [
    "match.shape"
   ],
   "outputs": [],
   "execution_count": null
  },
  {
   "cell_type": "code",
   "id": "06b913a4-e521-43e5-b415-ae42758823ce",
   "metadata": {
    "jupyter": {
     "is_executing": true
    }
   },
   "source": [
    "\n",
    "delivery.head()"
   ],
   "outputs": [],
   "execution_count": null
  },
  {
   "cell_type": "code",
   "id": "a983de00-1cd0-4da0-b8a1-feac4d5bc889",
   "metadata": {
    "jupyter": {
     "is_executing": true
    }
   },
   "source": [
    "total_score_df=delivery.groupby([\"match_id\",\"inning\"]).sum()[\"total_runs\"].reset_index()"
   ],
   "outputs": [],
   "execution_count": null
  },
  {
   "cell_type": "code",
   "id": "f0257098-0c54-48d6-9dde-9e83f04e87b2",
   "metadata": {
    "jupyter": {
     "is_executing": true
    }
   },
   "source": [
    "total_score_df"
   ],
   "outputs": [],
   "execution_count": null
  },
  {
   "cell_type": "code",
   "id": "01b3a7b5-440b-41c1-8de9-68e9b0f25246",
   "metadata": {
    "jupyter": {
     "is_executing": true
    }
   },
   "source": [
    "match_df=match.merge(total_score_df[[\"match_id\",\"total_runs\"]],left_on=\"id\",right_on=\"match_id\")"
   ],
   "outputs": [],
   "execution_count": null
  },
  {
   "cell_type": "code",
   "id": "352dd6cc-df92-493c-ae81-d0de2a9b23da",
   "metadata": {
    "jupyter": {
     "is_executing": true
    }
   },
   "source": [
    "match_df"
   ],
   "outputs": [],
   "execution_count": null
  },
  {
   "cell_type": "code",
   "id": "c0b9c594-764c-4ed7-a331-92bb9028fdc3",
   "metadata": {
    "jupyter": {
     "is_executing": true
    }
   },
   "source": [
    "match_df[\"team1\"].unique()"
   ],
   "outputs": [],
   "execution_count": null
  },
  {
   "cell_type": "code",
   "id": "361cc7ee-5a90-4da9-801c-c84eaea484f5",
   "metadata": {
    "jupyter": {
     "is_executing": true
    }
   },
   "source": [
    "teams = [\n",
    "    'Sunrisers Hyderabad',\n",
    "    'Mumbai Indians',\n",
    "    'Royal Challengers Bangalore',\n",
    "    'Kolkata Knight Riders',\n",
    "    'Kings XI Punjab',\n",
    "    'Chennai Super Kings',\n",
    "    'Rajasthan Royals',\n",
    "    'Delhi Capitals'\n",
    "]"
   ],
   "outputs": [],
   "execution_count": null
  },
  {
   "cell_type": "code",
   "id": "213418d3-41f4-42fe-b5df-5ffe7f8bf7d2",
   "metadata": {
    "jupyter": {
     "is_executing": true
    }
   },
   "source": [
    "match_df['team1'] = match_df['team1'].str.replace('Delhi Daredevils','Delhi Capitals')\n",
    "match_df['team2'] = match_df['team2'].str.replace('Delhi Daredevils','Delhi Capitals')\n",
    "\n",
    "match_df['team1'] = match_df['team1'].str.replace('Deccan Chargers','Sunrisers Hyderabad')\n",
    "match_df['team2'] = match_df['team2'].str.replace('Deccan Chargers','Sunrisers Hyderabad')"
   ],
   "outputs": [],
   "execution_count": null
  },
  {
   "cell_type": "code",
   "id": "48f6d7d1-c545-4c6f-8f4c-b6857bc745c9",
   "metadata": {
    "jupyter": {
     "is_executing": true
    }
   },
   "source": [
    "match_df = match_df[match_df['team1'].isin(teams)]\n",
    "match_df = match_df[match_df['team2'].isin(teams)]"
   ],
   "outputs": [],
   "execution_count": null
  },
  {
   "cell_type": "code",
   "id": "f2249b5e-2992-448d-a7e9-14c2b7054471",
   "metadata": {
    "jupyter": {
     "is_executing": true
    }
   },
   "source": [
    "match_df"
   ],
   "outputs": [],
   "execution_count": null
  },
  {
   "cell_type": "code",
   "id": "723ecaa5-7612-45b9-8080-cdd3bc0884af",
   "metadata": {
    "jupyter": {
     "is_executing": true
    }
   },
   "source": [
    "match_df.shape\n"
   ],
   "outputs": [],
   "execution_count": null
  },
  {
   "cell_type": "code",
   "id": "20c71aa1-67c3-4c0f-bccd-4e30dd7f493f",
   "metadata": {
    "jupyter": {
     "is_executing": true
    }
   },
   "source": [
    "match_df[\"dl_applied\"].value_counts()"
   ],
   "outputs": [],
   "execution_count": null
  },
  {
   "cell_type": "code",
   "id": "0a88953d-43c0-4446-9e49-1f080f0d42ce",
   "metadata": {
    "jupyter": {
     "is_executing": true
    }
   },
   "source": [
    "match_df=match_df[match_df[\"dl_applied\"]==0]"
   ],
   "outputs": [],
   "execution_count": null
  },
  {
   "cell_type": "code",
   "id": "54f1949a-b0c4-484a-ac39-0f80a5b2e434",
   "metadata": {
    "jupyter": {
     "is_executing": true
    }
   },
   "source": [
    "match_df"
   ],
   "outputs": [],
   "execution_count": null
  },
  {
   "cell_type": "code",
   "id": "905823eb-72ff-425d-936c-c58d51c6ae7b",
   "metadata": {
    "jupyter": {
     "is_executing": true
    }
   },
   "source": [
    "match_df=match_df[[\"match_id\",\"city\",\"winner\",\"total_runs\"]]"
   ],
   "outputs": [],
   "execution_count": null
  },
  {
   "cell_type": "code",
   "id": "db039376-c4ff-4574-86a7-491c64ac4256",
   "metadata": {
    "jupyter": {
     "is_executing": true
    }
   },
   "source": [
    "delivery_df=match_df.merge(delivery,on=\"match_id\")"
   ],
   "outputs": [],
   "execution_count": null
  },
  {
   "cell_type": "code",
   "id": "4539eb3a-4c3b-4660-a176-5a75cd8ac813",
   "metadata": {
    "jupyter": {
     "is_executing": true
    }
   },
   "source": [
    "delivery_df=delivery_df[delivery_df[\"inning\"]==2]"
   ],
   "outputs": [],
   "execution_count": null
  },
  {
   "cell_type": "code",
   "id": "fea8b19f-d5c2-4a5b-b20b-cd1febac7d2e",
   "metadata": {
    "jupyter": {
     "is_executing": true
    }
   },
   "source": [
    "delivery_df"
   ],
   "outputs": [],
   "execution_count": null
  },
  {
   "cell_type": "code",
   "id": "9c494f28-a06c-4752-b1a3-4c2eebe048b0",
   "metadata": {
    "jupyter": {
     "is_executing": true
    }
   },
   "source": [],
   "outputs": [],
   "execution_count": null
  },
  {
   "cell_type": "code",
   "id": "3d851b57-d3dd-4c40-be18-448b427ca899",
   "metadata": {
    "jupyter": {
     "is_executing": true
    }
   },
   "source": [
    "\n"
   ],
   "outputs": [],
   "execution_count": null
  },
  {
   "cell_type": "code",
   "id": "0c39fb32-d9f6-4c09-8f01-b9f9f8b63dfe",
   "metadata": {
    "jupyter": {
     "is_executing": true
    }
   },
   "source": [
    "# Convert 'total_runs_y' to a numeric type (if it's not already)\n",
    "delivery_df[\"total_runs_y\"] = pd.to_numeric(delivery_df[\"total_runs_y\"], errors='coerce')\n",
    "\n",
    "# Now apply the cumulative sum\n",
    "delivery_df[\"current_score\"] = delivery_df.groupby(\"match_id\")[\"total_runs_y\"].cumsum()\n"
   ],
   "outputs": [],
   "execution_count": null
  },
  {
   "cell_type": "code",
   "id": "1b710871-b69e-4a78-8229-eea3cd8ce8fe",
   "metadata": {
    "jupyter": {
     "is_executing": true
    }
   },
   "source": [
    "\n",
    "delivery_df['current_score']"
   ],
   "outputs": [],
   "execution_count": null
  },
  {
   "cell_type": "code",
   "id": "8a4125dd-92c1-4573-b6e5-683f2120f73d",
   "metadata": {
    "jupyter": {
     "is_executing": true
    }
   },
   "source": [
    "delivery_df[\"runs_left\"]=delivery_df[\"total_runs_x\"]-delivery_df[\"current_score\"]"
   ],
   "outputs": [],
   "execution_count": null
  },
  {
   "cell_type": "code",
   "id": "1210c177-e39a-4a85-86ee-1cd270a56073",
   "metadata": {
    "jupyter": {
     "is_executing": true
    }
   },
   "source": [
    "delivery_df[\"balls_left\"]=126-(delivery_df[\"over\"]*6+delivery_df[\"ball\"])"
   ],
   "outputs": [],
   "execution_count": null
  },
  {
   "cell_type": "code",
   "id": "9fa18a6d-3deb-4cca-a438-55e99a6015a5",
   "metadata": {
    "jupyter": {
     "is_executing": true
    }
   },
   "source": [
    "delivery_df"
   ],
   "outputs": [],
   "execution_count": null
  },
  {
   "cell_type": "code",
   "id": "5342754b-badd-4bcb-856c-7db015d27b44",
   "metadata": {
    "jupyter": {
     "is_executing": true
    }
   },
   "source": [
    "# Fill missing values in 'player_dismissed' with \"0\" and ensure it's numeric\n",
    "delivery_df['player_dismissed'] = delivery_df['player_dismissed'].fillna(\"0\")\n",
    "delivery_df['player_dismissed'] = delivery_df['player_dismissed'].apply(lambda x: 0 if x == \"0\" else 1)\n",
    "\n",
    "# Convert 'player_dismissed' to an integer type\n",
    "delivery_df['player_dismissed'] = delivery_df['player_dismissed'].astype(int)\n",
    "\n",
    "# Apply cumulative sum grouped by 'match_id'\n",
    "delivery_df['wickets_lost'] = delivery_df.groupby('match_id')['player_dismissed'].cumsum()\n",
    "\n",
    "# Subtract cumulative dismissals from 10 to get remaining wickets\n",
    "delivery_df['wickets'] = 10 - delivery_df['wickets_lost']\n",
    "\n",
    "# Check the result\n",
    "delivery_df.head()\n"
   ],
   "outputs": [],
   "execution_count": null
  },
  {
   "cell_type": "code",
   "id": "0e3d83de-76d2-42c9-8194-3ad43f179e97",
   "metadata": {
    "jupyter": {
     "is_executing": true
    }
   },
   "source": [
    "delivery_df.head()"
   ],
   "outputs": [],
   "execution_count": null
  },
  {
   "cell_type": "code",
   "id": "99538b67-7d23-49ea-b167-ea8e3199805e",
   "metadata": {
    "jupyter": {
     "is_executing": true
    }
   },
   "source": [
    "delivery_df.tail()"
   ],
   "outputs": [],
   "execution_count": null
  },
  {
   "cell_type": "code",
   "id": "4cb71af1-581a-4cb6-911f-3d1bc50bf426",
   "metadata": {
    "jupyter": {
     "is_executing": true
    }
   },
   "source": [
    "#crr runs/over\n",
    "\n",
    "delivery_df[\"crr\"]=(delivery_df[\"current_score\"]*6)/(120-delivery_df[\"balls_left\"])"
   ],
   "outputs": [],
   "execution_count": null
  },
  {
   "cell_type": "code",
   "id": "6dcdddf4-0d80-46f9-abb5-6216c5018c66",
   "metadata": {
    "jupyter": {
     "is_executing": true
    }
   },
   "source": [
    "delivery_df[\"rrr\"]=(delivery_df[\"runs_left\"]*6)/delivery_df[\"balls_left\"]"
   ],
   "outputs": [],
   "execution_count": null
  },
  {
   "cell_type": "code",
   "id": "dd9bc106-d966-40bc-b6f8-798f0d7bcdc5",
   "metadata": {
    "jupyter": {
     "is_executing": true
    }
   },
   "source": [
    "delivery_df[\"rrr\"]"
   ],
   "outputs": [],
   "execution_count": null
  },
  {
   "cell_type": "code",
   "execution_count": 93,
   "id": "02e897d9-a34a-43a0-8cc1-dcd1823cffbb",
   "metadata": {},
   "outputs": [],
   "source": [
    "def result(row):\n",
    "    return 1 if row[\"batting_team\"]==row[\"winner\"] else 0\n",
    "    "
   ]
  },
  {
   "cell_type": "code",
   "execution_count": 94,
   "id": "1981bed9-76db-4dc4-a1f9-86df8a0a4840",
   "metadata": {},
   "outputs": [],
   "source": [
    "delivery_df[\"result\"]=delivery_df.apply(result,axis=1)"
   ]
  },
  {
   "cell_type": "code",
   "execution_count": 96,
   "id": "f6ad0691-c3e3-4257-a087-c4e93715f11c",
   "metadata": {},
   "outputs": [],
   "source": [
    "final_df = delivery_df[['batting_team','bowling_team','city','runs_left','balls_left','wickets','total_runs_x','crr','rrr','result']]"
   ]
  },
  {
   "cell_type": "code",
   "execution_count": null,
   "id": "6eae261a-6ad3-45a0-9645-49bc548f801d",
   "metadata": {},
   "outputs": [],
   "source": []
  },
  {
   "cell_type": "code",
   "execution_count": 99,
   "id": "d7aa4d9c-dcc7-465e-b040-8e5e36df28ad",
   "metadata": {},
   "outputs": [
    {
     "data": {
      "text/html": [
       "<div>\n",
       "<style scoped>\n",
       "    .dataframe tbody tr th:only-of-type {\n",
       "        vertical-align: middle;\n",
       "    }\n",
       "\n",
       "    .dataframe tbody tr th {\n",
       "        vertical-align: top;\n",
       "    }\n",
       "\n",
       "    .dataframe thead th {\n",
       "        text-align: right;\n",
       "    }\n",
       "</style>\n",
       "<table border=\"1\" class=\"dataframe\">\n",
       "  <thead>\n",
       "    <tr style=\"text-align: right;\">\n",
       "      <th></th>\n",
       "      <th>batting_team</th>\n",
       "      <th>bowling_team</th>\n",
       "      <th>city</th>\n",
       "      <th>runs_left</th>\n",
       "      <th>balls_left</th>\n",
       "      <th>wickets</th>\n",
       "      <th>total_runs_x</th>\n",
       "      <th>crr</th>\n",
       "      <th>rrr</th>\n",
       "      <th>result</th>\n",
       "    </tr>\n",
       "  </thead>\n",
       "  <tbody>\n",
       "    <tr>\n",
       "      <th>125</th>\n",
       "      <td>Royal Challengers Bangalore</td>\n",
       "      <td>Sunrisers Hyderabad</td>\n",
       "      <td>Hyderabad</td>\n",
       "      <td>206</td>\n",
       "      <td>119</td>\n",
       "      <td>10</td>\n",
       "      <td>207</td>\n",
       "      <td>6.000000</td>\n",
       "      <td>10.386555</td>\n",
       "      <td>0</td>\n",
       "    </tr>\n",
       "    <tr>\n",
       "      <th>126</th>\n",
       "      <td>Royal Challengers Bangalore</td>\n",
       "      <td>Sunrisers Hyderabad</td>\n",
       "      <td>Hyderabad</td>\n",
       "      <td>206</td>\n",
       "      <td>118</td>\n",
       "      <td>10</td>\n",
       "      <td>207</td>\n",
       "      <td>3.000000</td>\n",
       "      <td>10.474576</td>\n",
       "      <td>0</td>\n",
       "    </tr>\n",
       "    <tr>\n",
       "      <th>127</th>\n",
       "      <td>Royal Challengers Bangalore</td>\n",
       "      <td>Sunrisers Hyderabad</td>\n",
       "      <td>Hyderabad</td>\n",
       "      <td>206</td>\n",
       "      <td>117</td>\n",
       "      <td>10</td>\n",
       "      <td>207</td>\n",
       "      <td>2.000000</td>\n",
       "      <td>10.564103</td>\n",
       "      <td>0</td>\n",
       "    </tr>\n",
       "    <tr>\n",
       "      <th>128</th>\n",
       "      <td>Royal Challengers Bangalore</td>\n",
       "      <td>Sunrisers Hyderabad</td>\n",
       "      <td>Hyderabad</td>\n",
       "      <td>204</td>\n",
       "      <td>116</td>\n",
       "      <td>10</td>\n",
       "      <td>207</td>\n",
       "      <td>4.500000</td>\n",
       "      <td>10.551724</td>\n",
       "      <td>0</td>\n",
       "    </tr>\n",
       "    <tr>\n",
       "      <th>129</th>\n",
       "      <td>Royal Challengers Bangalore</td>\n",
       "      <td>Sunrisers Hyderabad</td>\n",
       "      <td>Hyderabad</td>\n",
       "      <td>200</td>\n",
       "      <td>115</td>\n",
       "      <td>10</td>\n",
       "      <td>207</td>\n",
       "      <td>8.400000</td>\n",
       "      <td>10.434783</td>\n",
       "      <td>0</td>\n",
       "    </tr>\n",
       "    <tr>\n",
       "      <th>...</th>\n",
       "      <td>...</td>\n",
       "      <td>...</td>\n",
       "      <td>...</td>\n",
       "      <td>...</td>\n",
       "      <td>...</td>\n",
       "      <td>...</td>\n",
       "      <td>...</td>\n",
       "      <td>...</td>\n",
       "      <td>...</td>\n",
       "      <td>...</td>\n",
       "    </tr>\n",
       "    <tr>\n",
       "      <th>303165</th>\n",
       "      <td>Chennai Super Kings</td>\n",
       "      <td>Mumbai Indians</td>\n",
       "      <td>Hyderabad</td>\n",
       "      <td>-152</td>\n",
       "      <td>4</td>\n",
       "      <td>-2</td>\n",
       "      <td>157</td>\n",
       "      <td>15.982759</td>\n",
       "      <td>-228.000000</td>\n",
       "      <td>0</td>\n",
       "    </tr>\n",
       "    <tr>\n",
       "      <th>303166</th>\n",
       "      <td>Chennai Super Kings</td>\n",
       "      <td>Mumbai Indians</td>\n",
       "      <td>Hyderabad</td>\n",
       "      <td>-154</td>\n",
       "      <td>3</td>\n",
       "      <td>-2</td>\n",
       "      <td>157</td>\n",
       "      <td>15.948718</td>\n",
       "      <td>-308.000000</td>\n",
       "      <td>0</td>\n",
       "    </tr>\n",
       "    <tr>\n",
       "      <th>303167</th>\n",
       "      <td>Chennai Super Kings</td>\n",
       "      <td>Mumbai Indians</td>\n",
       "      <td>Hyderabad</td>\n",
       "      <td>-155</td>\n",
       "      <td>2</td>\n",
       "      <td>-3</td>\n",
       "      <td>157</td>\n",
       "      <td>15.864407</td>\n",
       "      <td>-465.000000</td>\n",
       "      <td>0</td>\n",
       "    </tr>\n",
       "    <tr>\n",
       "      <th>303168</th>\n",
       "      <td>Chennai Super Kings</td>\n",
       "      <td>Mumbai Indians</td>\n",
       "      <td>Hyderabad</td>\n",
       "      <td>-157</td>\n",
       "      <td>1</td>\n",
       "      <td>-3</td>\n",
       "      <td>157</td>\n",
       "      <td>15.831933</td>\n",
       "      <td>-942.000000</td>\n",
       "      <td>0</td>\n",
       "    </tr>\n",
       "    <tr>\n",
       "      <th>303169</th>\n",
       "      <td>Chennai Super Kings</td>\n",
       "      <td>Mumbai Indians</td>\n",
       "      <td>Hyderabad</td>\n",
       "      <td>-157</td>\n",
       "      <td>0</td>\n",
       "      <td>-4</td>\n",
       "      <td>157</td>\n",
       "      <td>15.700000</td>\n",
       "      <td>-inf</td>\n",
       "      <td>0</td>\n",
       "    </tr>\n",
       "  </tbody>\n",
       "</table>\n",
       "<p>146822 rows × 10 columns</p>\n",
       "</div>"
      ],
      "text/plain": [
       "                       batting_team         bowling_team       city  \\\n",
       "125     Royal Challengers Bangalore  Sunrisers Hyderabad  Hyderabad   \n",
       "126     Royal Challengers Bangalore  Sunrisers Hyderabad  Hyderabad   \n",
       "127     Royal Challengers Bangalore  Sunrisers Hyderabad  Hyderabad   \n",
       "128     Royal Challengers Bangalore  Sunrisers Hyderabad  Hyderabad   \n",
       "129     Royal Challengers Bangalore  Sunrisers Hyderabad  Hyderabad   \n",
       "...                             ...                  ...        ...   \n",
       "303165          Chennai Super Kings       Mumbai Indians  Hyderabad   \n",
       "303166          Chennai Super Kings       Mumbai Indians  Hyderabad   \n",
       "303167          Chennai Super Kings       Mumbai Indians  Hyderabad   \n",
       "303168          Chennai Super Kings       Mumbai Indians  Hyderabad   \n",
       "303169          Chennai Super Kings       Mumbai Indians  Hyderabad   \n",
       "\n",
       "        runs_left  balls_left  wickets  total_runs_x        crr         rrr  \\\n",
       "125           206         119       10           207   6.000000   10.386555   \n",
       "126           206         118       10           207   3.000000   10.474576   \n",
       "127           206         117       10           207   2.000000   10.564103   \n",
       "128           204         116       10           207   4.500000   10.551724   \n",
       "129           200         115       10           207   8.400000   10.434783   \n",
       "...           ...         ...      ...           ...        ...         ...   \n",
       "303165       -152           4       -2           157  15.982759 -228.000000   \n",
       "303166       -154           3       -2           157  15.948718 -308.000000   \n",
       "303167       -155           2       -3           157  15.864407 -465.000000   \n",
       "303168       -157           1       -3           157  15.831933 -942.000000   \n",
       "303169       -157           0       -4           157  15.700000        -inf   \n",
       "\n",
       "        result  \n",
       "125          0  \n",
       "126          0  \n",
       "127          0  \n",
       "128          0  \n",
       "129          0  \n",
       "...        ...  \n",
       "303165       0  \n",
       "303166       0  \n",
       "303167       0  \n",
       "303168       0  \n",
       "303169       0  \n",
       "\n",
       "[146822 rows x 10 columns]"
      ]
     },
     "execution_count": 99,
     "metadata": {},
     "output_type": "execute_result"
    }
   ],
   "source": [
    "final_df\n"
   ]
  },
  {
   "cell_type": "code",
   "execution_count": 101,
   "id": "3cd6edeb-1488-4a15-b2b5-336f629dd13c",
   "metadata": {},
   "outputs": [],
   "source": [
    " final_df=final_df.sample(final_df.shape[0])"
   ]
  },
  {
   "cell_type": "code",
   "execution_count": 103,
   "id": "22cc9870-ddfd-4517-b29f-6dbf9592fde5",
   "metadata": {},
   "outputs": [
    {
     "data": {
      "text/html": [
       "<div>\n",
       "<style scoped>\n",
       "    .dataframe tbody tr th:only-of-type {\n",
       "        vertical-align: middle;\n",
       "    }\n",
       "\n",
       "    .dataframe tbody tr th {\n",
       "        vertical-align: top;\n",
       "    }\n",
       "\n",
       "    .dataframe thead th {\n",
       "        text-align: right;\n",
       "    }\n",
       "</style>\n",
       "<table border=\"1\" class=\"dataframe\">\n",
       "  <thead>\n",
       "    <tr style=\"text-align: right;\">\n",
       "      <th></th>\n",
       "      <th>batting_team</th>\n",
       "      <th>bowling_team</th>\n",
       "      <th>city</th>\n",
       "      <th>runs_left</th>\n",
       "      <th>balls_left</th>\n",
       "      <th>wickets</th>\n",
       "      <th>total_runs_x</th>\n",
       "      <th>crr</th>\n",
       "      <th>rrr</th>\n",
       "      <th>result</th>\n",
       "    </tr>\n",
       "  </thead>\n",
       "  <tbody>\n",
       "    <tr>\n",
       "      <th>58067</th>\n",
       "      <td>Royal Challengers Bangalore</td>\n",
       "      <td>Kolkata Knight Riders</td>\n",
       "      <td>Centurion</td>\n",
       "      <td>111</td>\n",
       "      <td>67</td>\n",
       "      <td>9</td>\n",
       "      <td>173</td>\n",
       "      <td>7.018868</td>\n",
       "      <td>9.940299</td>\n",
       "      <td>1</td>\n",
       "    </tr>\n",
       "    <tr>\n",
       "      <th>23063</th>\n",
       "      <td>Kolkata Knight Riders</td>\n",
       "      <td>Rajasthan Royals</td>\n",
       "      <td>Jaipur</td>\n",
       "      <td>-105</td>\n",
       "      <td>45</td>\n",
       "      <td>-3</td>\n",
       "      <td>151</td>\n",
       "      <td>20.480000</td>\n",
       "      <td>-14.000000</td>\n",
       "      <td>0</td>\n",
       "    </tr>\n",
       "    <tr>\n",
       "      <th>269013</th>\n",
       "      <td>Sunrisers Hyderabad</td>\n",
       "      <td>Royal Challengers Bangalore</td>\n",
       "      <td>Bengaluru</td>\n",
       "      <td>-93</td>\n",
       "      <td>57</td>\n",
       "      <td>5</td>\n",
       "      <td>209</td>\n",
       "      <td>28.761905</td>\n",
       "      <td>-9.789474</td>\n",
       "      <td>0</td>\n",
       "    </tr>\n",
       "    <tr>\n",
       "      <th>67379</th>\n",
       "      <td>Deccan Chargers</td>\n",
       "      <td>Kolkata Knight Riders</td>\n",
       "      <td>Mumbai</td>\n",
       "      <td>62</td>\n",
       "      <td>54</td>\n",
       "      <td>9</td>\n",
       "      <td>161</td>\n",
       "      <td>9.000000</td>\n",
       "      <td>6.888889</td>\n",
       "      <td>0</td>\n",
       "    </tr>\n",
       "    <tr>\n",
       "      <th>197402</th>\n",
       "      <td>Sunrisers Hyderabad</td>\n",
       "      <td>Royal Challengers Bangalore</td>\n",
       "      <td>Hyderabad</td>\n",
       "      <td>-55</td>\n",
       "      <td>79</td>\n",
       "      <td>7</td>\n",
       "      <td>161</td>\n",
       "      <td>31.609756</td>\n",
       "      <td>-4.177215</td>\n",
       "      <td>1</td>\n",
       "    </tr>\n",
       "    <tr>\n",
       "      <th>...</th>\n",
       "      <td>...</td>\n",
       "      <td>...</td>\n",
       "      <td>...</td>\n",
       "      <td>...</td>\n",
       "      <td>...</td>\n",
       "      <td>...</td>\n",
       "      <td>...</td>\n",
       "      <td>...</td>\n",
       "      <td>...</td>\n",
       "      <td>...</td>\n",
       "    </tr>\n",
       "    <tr>\n",
       "      <th>9983</th>\n",
       "      <td>Royal Challengers Bangalore</td>\n",
       "      <td>Kings XI Punjab</td>\n",
       "      <td>Bangalore</td>\n",
       "      <td>133</td>\n",
       "      <td>115</td>\n",
       "      <td>9</td>\n",
       "      <td>138</td>\n",
       "      <td>6.000000</td>\n",
       "      <td>6.939130</td>\n",
       "      <td>0</td>\n",
       "    </tr>\n",
       "    <tr>\n",
       "      <th>210183</th>\n",
       "      <td>Chennai Super Kings</td>\n",
       "      <td>Mumbai Indians</td>\n",
       "      <td>Mumbai</td>\n",
       "      <td>51</td>\n",
       "      <td>53</td>\n",
       "      <td>8</td>\n",
       "      <td>183</td>\n",
       "      <td>11.820896</td>\n",
       "      <td>5.773585</td>\n",
       "      <td>1</td>\n",
       "    </tr>\n",
       "    <tr>\n",
       "      <th>5297</th>\n",
       "      <td>Kings XI Punjab</td>\n",
       "      <td>Sunrisers Hyderabad</td>\n",
       "      <td>Hyderabad</td>\n",
       "      <td>-81</td>\n",
       "      <td>40</td>\n",
       "      <td>-5</td>\n",
       "      <td>154</td>\n",
       "      <td>17.625000</td>\n",
       "      <td>-12.150000</td>\n",
       "      <td>0</td>\n",
       "    </tr>\n",
       "    <tr>\n",
       "      <th>175941</th>\n",
       "      <td>Royal Challengers Bangalore</td>\n",
       "      <td>Delhi Daredevils</td>\n",
       "      <td>Sharjah</td>\n",
       "      <td>67</td>\n",
       "      <td>55</td>\n",
       "      <td>8</td>\n",
       "      <td>145</td>\n",
       "      <td>7.200000</td>\n",
       "      <td>7.309091</td>\n",
       "      <td>1</td>\n",
       "    </tr>\n",
       "    <tr>\n",
       "      <th>145476</th>\n",
       "      <td>Kolkata Knight Riders</td>\n",
       "      <td>Chennai Super Kings</td>\n",
       "      <td>Chennai</td>\n",
       "      <td>-1</td>\n",
       "      <td>117</td>\n",
       "      <td>5</td>\n",
       "      <td>192</td>\n",
       "      <td>386.000000</td>\n",
       "      <td>-0.051282</td>\n",
       "      <td>1</td>\n",
       "    </tr>\n",
       "  </tbody>\n",
       "</table>\n",
       "<p>146822 rows × 10 columns</p>\n",
       "</div>"
      ],
      "text/plain": [
       "                       batting_team                 bowling_team       city  \\\n",
       "58067   Royal Challengers Bangalore        Kolkata Knight Riders  Centurion   \n",
       "23063         Kolkata Knight Riders             Rajasthan Royals     Jaipur   \n",
       "269013          Sunrisers Hyderabad  Royal Challengers Bangalore  Bengaluru   \n",
       "67379               Deccan Chargers        Kolkata Knight Riders     Mumbai   \n",
       "197402          Sunrisers Hyderabad  Royal Challengers Bangalore  Hyderabad   \n",
       "...                             ...                          ...        ...   \n",
       "9983    Royal Challengers Bangalore              Kings XI Punjab  Bangalore   \n",
       "210183          Chennai Super Kings               Mumbai Indians     Mumbai   \n",
       "5297                Kings XI Punjab          Sunrisers Hyderabad  Hyderabad   \n",
       "175941  Royal Challengers Bangalore             Delhi Daredevils    Sharjah   \n",
       "145476        Kolkata Knight Riders          Chennai Super Kings    Chennai   \n",
       "\n",
       "        runs_left  balls_left  wickets  total_runs_x         crr        rrr  \\\n",
       "58067         111          67        9           173    7.018868   9.940299   \n",
       "23063        -105          45       -3           151   20.480000 -14.000000   \n",
       "269013        -93          57        5           209   28.761905  -9.789474   \n",
       "67379          62          54        9           161    9.000000   6.888889   \n",
       "197402        -55          79        7           161   31.609756  -4.177215   \n",
       "...           ...         ...      ...           ...         ...        ...   \n",
       "9983          133         115        9           138    6.000000   6.939130   \n",
       "210183         51          53        8           183   11.820896   5.773585   \n",
       "5297          -81          40       -5           154   17.625000 -12.150000   \n",
       "175941         67          55        8           145    7.200000   7.309091   \n",
       "145476         -1         117        5           192  386.000000  -0.051282   \n",
       "\n",
       "        result  \n",
       "58067        1  \n",
       "23063        0  \n",
       "269013       0  \n",
       "67379        0  \n",
       "197402       1  \n",
       "...        ...  \n",
       "9983         0  \n",
       "210183       1  \n",
       "5297         0  \n",
       "175941       1  \n",
       "145476       1  \n",
       "\n",
       "[146822 rows x 10 columns]"
      ]
     },
     "execution_count": 103,
     "metadata": {},
     "output_type": "execute_result"
    }
   ],
   "source": [
    "final_df"
   ]
  },
  {
   "cell_type": "code",
   "execution_count": 106,
   "id": "7f9da5d0-4a8f-40fc-b1c9-4c97c8352c5f",
   "metadata": {},
   "outputs": [
    {
     "data": {
      "text/html": [
       "<div>\n",
       "<style scoped>\n",
       "    .dataframe tbody tr th:only-of-type {\n",
       "        vertical-align: middle;\n",
       "    }\n",
       "\n",
       "    .dataframe tbody tr th {\n",
       "        vertical-align: top;\n",
       "    }\n",
       "\n",
       "    .dataframe thead th {\n",
       "        text-align: right;\n",
       "    }\n",
       "</style>\n",
       "<table border=\"1\" class=\"dataframe\">\n",
       "  <thead>\n",
       "    <tr style=\"text-align: right;\">\n",
       "      <th></th>\n",
       "      <th>batting_team</th>\n",
       "      <th>bowling_team</th>\n",
       "      <th>city</th>\n",
       "      <th>runs_left</th>\n",
       "      <th>balls_left</th>\n",
       "      <th>wickets</th>\n",
       "      <th>total_runs_x</th>\n",
       "      <th>crr</th>\n",
       "      <th>rrr</th>\n",
       "      <th>result</th>\n",
       "    </tr>\n",
       "  </thead>\n",
       "  <tbody>\n",
       "    <tr>\n",
       "      <th>70569</th>\n",
       "      <td>Royal Challengers Bangalore</td>\n",
       "      <td>Kings XI Punjab</td>\n",
       "      <td>Bangalore</td>\n",
       "      <td>-64</td>\n",
       "      <td>80</td>\n",
       "      <td>8</td>\n",
       "      <td>204</td>\n",
       "      <td>40.2</td>\n",
       "      <td>-4.8</td>\n",
       "      <td>1</td>\n",
       "    </tr>\n",
       "  </tbody>\n",
       "</table>\n",
       "</div>"
      ],
      "text/plain": [
       "                      batting_team     bowling_team       city  runs_left  \\\n",
       "70569  Royal Challengers Bangalore  Kings XI Punjab  Bangalore        -64   \n",
       "\n",
       "       balls_left  wickets  total_runs_x   crr  rrr  result  \n",
       "70569          80        8           204  40.2 -4.8       1  "
      ]
     },
     "execution_count": 106,
     "metadata": {},
     "output_type": "execute_result"
    }
   ],
   "source": [
    "final_df.sample()"
   ]
  },
  {
   "cell_type": "code",
   "execution_count": 107,
   "id": "dee64f41-fe19-48b3-a852-f1b34d647d1c",
   "metadata": {},
   "outputs": [],
   "source": [
    "final_df=final_df[final_df[\"balls_left\"]!=0]"
   ]
  },
  {
   "cell_type": "code",
   "execution_count": 109,
   "id": "12bd3212-b527-4d70-a4dc-c6ff26c40ee2",
   "metadata": {},
   "outputs": [],
   "source": [
    "X=final_df.iloc[:,:-1]\n",
    "y=final_df.iloc[:,-1]\n",
    "from sklearn.model_selection import train_test_split\n",
    "X_train,X_test,y_train,y_test = train_test_split(X,y,test_size=0.2,random_state=1)"
   ]
  },
  {
   "cell_type": "code",
   "execution_count": 110,
   "id": "6e940190-907f-4ceb-8e46-493c5f47c35c",
   "metadata": {},
   "outputs": [
    {
     "data": {
      "text/html": [
       "<div>\n",
       "<style scoped>\n",
       "    .dataframe tbody tr th:only-of-type {\n",
       "        vertical-align: middle;\n",
       "    }\n",
       "\n",
       "    .dataframe tbody tr th {\n",
       "        vertical-align: top;\n",
       "    }\n",
       "\n",
       "    .dataframe thead th {\n",
       "        text-align: right;\n",
       "    }\n",
       "</style>\n",
       "<table border=\"1\" class=\"dataframe\">\n",
       "  <thead>\n",
       "    <tr style=\"text-align: right;\">\n",
       "      <th></th>\n",
       "      <th>batting_team</th>\n",
       "      <th>bowling_team</th>\n",
       "      <th>city</th>\n",
       "      <th>runs_left</th>\n",
       "      <th>balls_left</th>\n",
       "      <th>wickets</th>\n",
       "      <th>total_runs_x</th>\n",
       "      <th>crr</th>\n",
       "      <th>rrr</th>\n",
       "    </tr>\n",
       "  </thead>\n",
       "  <tbody>\n",
       "    <tr>\n",
       "      <th>4338</th>\n",
       "      <td>Kings XI Punjab</td>\n",
       "      <td>Delhi Daredevils</td>\n",
       "      <td>Delhi</td>\n",
       "      <td>-128</td>\n",
       "      <td>13</td>\n",
       "      <td>-5</td>\n",
       "      <td>137</td>\n",
       "      <td>14.859813</td>\n",
       "      <td>-59.076923</td>\n",
       "    </tr>\n",
       "    <tr>\n",
       "      <th>253602</th>\n",
       "      <td>Rajasthan Royals</td>\n",
       "      <td>Chennai Super Kings</td>\n",
       "      <td>Pune</td>\n",
       "      <td>-4</td>\n",
       "      <td>116</td>\n",
       "      <td>0</td>\n",
       "      <td>148</td>\n",
       "      <td>228.000000</td>\n",
       "      <td>-0.206897</td>\n",
       "    </tr>\n",
       "    <tr>\n",
       "      <th>193479</th>\n",
       "      <td>Delhi Daredevils</td>\n",
       "      <td>Royal Challengers Bangalore</td>\n",
       "      <td>Bangalore</td>\n",
       "      <td>-76</td>\n",
       "      <td>60</td>\n",
       "      <td>0</td>\n",
       "      <td>170</td>\n",
       "      <td>24.600000</td>\n",
       "      <td>-7.600000</td>\n",
       "    </tr>\n",
       "    <tr>\n",
       "      <th>209669</th>\n",
       "      <td>Rajasthan Royals</td>\n",
       "      <td>Sunrisers Hyderabad</td>\n",
       "      <td>Visakhapatnam</td>\n",
       "      <td>70</td>\n",
       "      <td>66</td>\n",
       "      <td>10</td>\n",
       "      <td>127</td>\n",
       "      <td>6.333333</td>\n",
       "      <td>6.363636</td>\n",
       "    </tr>\n",
       "    <tr>\n",
       "      <th>168944</th>\n",
       "      <td>Rajasthan Royals</td>\n",
       "      <td>Chennai Super Kings</td>\n",
       "      <td>Jaipur</td>\n",
       "      <td>117</td>\n",
       "      <td>84</td>\n",
       "      <td>7</td>\n",
       "      <td>141</td>\n",
       "      <td>4.000000</td>\n",
       "      <td>8.357143</td>\n",
       "    </tr>\n",
       "    <tr>\n",
       "      <th>...</th>\n",
       "      <td>...</td>\n",
       "      <td>...</td>\n",
       "      <td>...</td>\n",
       "      <td>...</td>\n",
       "      <td>...</td>\n",
       "      <td>...</td>\n",
       "      <td>...</td>\n",
       "      <td>...</td>\n",
       "      <td>...</td>\n",
       "    </tr>\n",
       "    <tr>\n",
       "      <th>113705</th>\n",
       "      <td>Royal Challengers Bangalore</td>\n",
       "      <td>Kings XI Punjab</td>\n",
       "      <td>Dharamsala</td>\n",
       "      <td>171</td>\n",
       "      <td>70</td>\n",
       "      <td>6</td>\n",
       "      <td>232</td>\n",
       "      <td>7.320000</td>\n",
       "      <td>14.657143</td>\n",
       "    </tr>\n",
       "    <tr>\n",
       "      <th>158521</th>\n",
       "      <td>Chennai Super Kings</td>\n",
       "      <td>Sunrisers Hyderabad</td>\n",
       "      <td>Chennai</td>\n",
       "      <td>27</td>\n",
       "      <td>13</td>\n",
       "      <td>6</td>\n",
       "      <td>159</td>\n",
       "      <td>7.401869</td>\n",
       "      <td>12.461538</td>\n",
       "    </tr>\n",
       "    <tr>\n",
       "      <th>228385</th>\n",
       "      <td>Kolkata Knight Riders</td>\n",
       "      <td>Rajasthan Royals</td>\n",
       "      <td>Mumbai</td>\n",
       "      <td>-2</td>\n",
       "      <td>118</td>\n",
       "      <td>1</td>\n",
       "      <td>190</td>\n",
       "      <td>576.000000</td>\n",
       "      <td>-0.101695</td>\n",
       "    </tr>\n",
       "    <tr>\n",
       "      <th>198396</th>\n",
       "      <td>Mumbai Indians</td>\n",
       "      <td>Kings XI Punjab</td>\n",
       "      <td>Chandigarh</td>\n",
       "      <td>-116</td>\n",
       "      <td>39</td>\n",
       "      <td>5</td>\n",
       "      <td>159</td>\n",
       "      <td>20.370370</td>\n",
       "      <td>-17.846154</td>\n",
       "    </tr>\n",
       "    <tr>\n",
       "      <th>173683</th>\n",
       "      <td>Mumbai Indians</td>\n",
       "      <td>Chennai Super Kings</td>\n",
       "      <td>Delhi</td>\n",
       "      <td>-19</td>\n",
       "      <td>100</td>\n",
       "      <td>-1</td>\n",
       "      <td>144</td>\n",
       "      <td>48.900000</td>\n",
       "      <td>-1.140000</td>\n",
       "    </tr>\n",
       "  </tbody>\n",
       "</table>\n",
       "<p>117059 rows × 9 columns</p>\n",
       "</div>"
      ],
      "text/plain": [
       "                       batting_team                 bowling_team  \\\n",
       "4338                Kings XI Punjab             Delhi Daredevils   \n",
       "253602             Rajasthan Royals          Chennai Super Kings   \n",
       "193479             Delhi Daredevils  Royal Challengers Bangalore   \n",
       "209669             Rajasthan Royals          Sunrisers Hyderabad   \n",
       "168944             Rajasthan Royals          Chennai Super Kings   \n",
       "...                             ...                          ...   \n",
       "113705  Royal Challengers Bangalore              Kings XI Punjab   \n",
       "158521          Chennai Super Kings          Sunrisers Hyderabad   \n",
       "228385        Kolkata Knight Riders             Rajasthan Royals   \n",
       "198396               Mumbai Indians              Kings XI Punjab   \n",
       "173683               Mumbai Indians          Chennai Super Kings   \n",
       "\n",
       "                 city  runs_left  balls_left  wickets  total_runs_x  \\\n",
       "4338            Delhi       -128          13       -5           137   \n",
       "253602           Pune         -4         116        0           148   \n",
       "193479      Bangalore        -76          60        0           170   \n",
       "209669  Visakhapatnam         70          66       10           127   \n",
       "168944         Jaipur        117          84        7           141   \n",
       "...               ...        ...         ...      ...           ...   \n",
       "113705     Dharamsala        171          70        6           232   \n",
       "158521        Chennai         27          13        6           159   \n",
       "228385         Mumbai         -2         118        1           190   \n",
       "198396     Chandigarh       -116          39        5           159   \n",
       "173683          Delhi        -19         100       -1           144   \n",
       "\n",
       "               crr        rrr  \n",
       "4338     14.859813 -59.076923  \n",
       "253602  228.000000  -0.206897  \n",
       "193479   24.600000  -7.600000  \n",
       "209669    6.333333   6.363636  \n",
       "168944    4.000000   8.357143  \n",
       "...            ...        ...  \n",
       "113705    7.320000  14.657143  \n",
       "158521    7.401869  12.461538  \n",
       "228385  576.000000  -0.101695  \n",
       "198396   20.370370 -17.846154  \n",
       "173683   48.900000  -1.140000  \n",
       "\n",
       "[117059 rows x 9 columns]"
      ]
     },
     "execution_count": 110,
     "metadata": {},
     "output_type": "execute_result"
    }
   ],
   "source": [
    "X_train"
   ]
  },
  {
   "cell_type": "code",
   "execution_count": 112,
   "id": "c3f1a310-74ad-453e-b1d0-ccef915c43c5",
   "metadata": {},
   "outputs": [
    {
     "data": {
      "text/plain": [
       "4338      0\n",
       "253602    0\n",
       "193479    0\n",
       "209669    1\n",
       "168944    1\n",
       "         ..\n",
       "113705    0\n",
       "158521    1\n",
       "228385    0\n",
       "198396    1\n",
       "173683    0\n",
       "Name: result, Length: 117059, dtype: int64"
      ]
     },
     "execution_count": 112,
     "metadata": {},
     "output_type": "execute_result"
    }
   ],
   "source": [
    "y_train"
   ]
  },
  {
   "cell_type": "code",
   "execution_count": 113,
   "id": "af4a3f05-8fdc-4a31-a94f-c30f7d2373b7",
   "metadata": {},
   "outputs": [],
   "source": [
    "from sklearn.compose import ColumnTransformer\n",
    "from sklearn.preprocessing import OneHotEncoder\n",
    "trf=ColumnTransformer"
   ]
  },
  {
   "cell_type": "code",
   "execution_count": 114,
   "id": "98fa88e4-8652-4c1e-8190-40d7861d38ee",
   "metadata": {},
   "outputs": [],
   "source": [
    "from sklearn.compose import ColumnTransformer\n",
    "from sklearn.preprocessing import OneHotEncoder\n",
    "\n",
    "trf = ColumnTransformer(\n",
    "    transformers=[\n",
    "        ('trf', OneHotEncoder(sparse_output=False, drop='first'), ['batting_team', 'bowling_team', 'city'])\n",
    "    ],\n",
    "    remainder='passthrough'\n",
    ")\n"
   ]
  },
  {
   "cell_type": "code",
   "execution_count": 115,
   "id": "a8c144b9-6937-4cee-80a8-d40748cfb1fb",
   "metadata": {},
   "outputs": [],
   "source": [
    "from sklearn.linear_model import LogisticRegression\n",
    "from sklearn.ensemble import RandomForestClassifier\n",
    "from sklearn.pipeline import Pipeline"
   ]
  },
  {
   "cell_type": "code",
   "execution_count": 116,
   "id": "260c2324-580d-40ed-9a32-616f5ea016f0",
   "metadata": {},
   "outputs": [],
   "source": [
    "from sklearn.pipeline import Pipeline\n",
    "from sklearn.compose import ColumnTransformer\n",
    "from sklearn.preprocessing import OneHotEncoder\n",
    "from sklearn.linear_model import LogisticRegression\n",
    "\n",
    "pipeline = Pipeline(steps=[\n",
    "    ('preprocessor', ColumnTransformer(\n",
    "        transformers=[\n",
    "            ('trf', OneHotEncoder(drop='first', sparse_output=False), ['batting_team', 'bowling_team', 'city'])\n",
    "        ],\n",
    "        remainder='passthrough'\n",
    "    )),\n",
    "    ('classifier', LogisticRegression(solver='liblinear'))\n",
    "])\n"
   ]
  },
  {
   "cell_type": "code",
   "execution_count": 117,
   "id": "e7bd3a29-b203-4d76-ae1d-b80de95d0326",
   "metadata": {},
   "outputs": [],
   "source": [
    "\n",
    "pipe = Pipeline(steps=[\n",
    "    ('step1',trf),\n",
    "    ('step2',LogisticRegression(solver='liblinear'))\n",
    "])"
   ]
  },
  {
   "cell_type": "code",
   "execution_count": 118,
   "id": "d552b2bb-48b5-4164-8f86-3d94412cb82d",
   "metadata": {},
   "outputs": [
    {
     "data": {
      "text/html": [
       "<style>#sk-container-id-1 {\n",
       "  /* Definition of color scheme common for light and dark mode */\n",
       "  --sklearn-color-text: black;\n",
       "  --sklearn-color-line: gray;\n",
       "  /* Definition of color scheme for unfitted estimators */\n",
       "  --sklearn-color-unfitted-level-0: #fff5e6;\n",
       "  --sklearn-color-unfitted-level-1: #f6e4d2;\n",
       "  --sklearn-color-unfitted-level-2: #ffe0b3;\n",
       "  --sklearn-color-unfitted-level-3: chocolate;\n",
       "  /* Definition of color scheme for fitted estimators */\n",
       "  --sklearn-color-fitted-level-0: #f0f8ff;\n",
       "  --sklearn-color-fitted-level-1: #d4ebff;\n",
       "  --sklearn-color-fitted-level-2: #b3dbfd;\n",
       "  --sklearn-color-fitted-level-3: cornflowerblue;\n",
       "\n",
       "  /* Specific color for light theme */\n",
       "  --sklearn-color-text-on-default-background: var(--sg-text-color, var(--theme-code-foreground, var(--jp-content-font-color1, black)));\n",
       "  --sklearn-color-background: var(--sg-background-color, var(--theme-background, var(--jp-layout-color0, white)));\n",
       "  --sklearn-color-border-box: var(--sg-text-color, var(--theme-code-foreground, var(--jp-content-font-color1, black)));\n",
       "  --sklearn-color-icon: #696969;\n",
       "\n",
       "  @media (prefers-color-scheme: dark) {\n",
       "    /* Redefinition of color scheme for dark theme */\n",
       "    --sklearn-color-text-on-default-background: var(--sg-text-color, var(--theme-code-foreground, var(--jp-content-font-color1, white)));\n",
       "    --sklearn-color-background: var(--sg-background-color, var(--theme-background, var(--jp-layout-color0, #111)));\n",
       "    --sklearn-color-border-box: var(--sg-text-color, var(--theme-code-foreground, var(--jp-content-font-color1, white)));\n",
       "    --sklearn-color-icon: #878787;\n",
       "  }\n",
       "}\n",
       "\n",
       "#sk-container-id-1 {\n",
       "  color: var(--sklearn-color-text);\n",
       "}\n",
       "\n",
       "#sk-container-id-1 pre {\n",
       "  padding: 0;\n",
       "}\n",
       "\n",
       "#sk-container-id-1 input.sk-hidden--visually {\n",
       "  border: 0;\n",
       "  clip: rect(1px 1px 1px 1px);\n",
       "  clip: rect(1px, 1px, 1px, 1px);\n",
       "  height: 1px;\n",
       "  margin: -1px;\n",
       "  overflow: hidden;\n",
       "  padding: 0;\n",
       "  position: absolute;\n",
       "  width: 1px;\n",
       "}\n",
       "\n",
       "#sk-container-id-1 div.sk-dashed-wrapped {\n",
       "  border: 1px dashed var(--sklearn-color-line);\n",
       "  margin: 0 0.4em 0.5em 0.4em;\n",
       "  box-sizing: border-box;\n",
       "  padding-bottom: 0.4em;\n",
       "  background-color: var(--sklearn-color-background);\n",
       "}\n",
       "\n",
       "#sk-container-id-1 div.sk-container {\n",
       "  /* jupyter's `normalize.less` sets `[hidden] { display: none; }`\n",
       "     but bootstrap.min.css set `[hidden] { display: none !important; }`\n",
       "     so we also need the `!important` here to be able to override the\n",
       "     default hidden behavior on the sphinx rendered scikit-learn.org.\n",
       "     See: https://github.com/scikit-learn/scikit-learn/issues/21755 */\n",
       "  display: inline-block !important;\n",
       "  position: relative;\n",
       "}\n",
       "\n",
       "#sk-container-id-1 div.sk-text-repr-fallback {\n",
       "  display: none;\n",
       "}\n",
       "\n",
       "div.sk-parallel-item,\n",
       "div.sk-serial,\n",
       "div.sk-item {\n",
       "  /* draw centered vertical line to link estimators */\n",
       "  background-image: linear-gradient(var(--sklearn-color-text-on-default-background), var(--sklearn-color-text-on-default-background));\n",
       "  background-size: 2px 100%;\n",
       "  background-repeat: no-repeat;\n",
       "  background-position: center center;\n",
       "}\n",
       "\n",
       "/* Parallel-specific style estimator block */\n",
       "\n",
       "#sk-container-id-1 div.sk-parallel-item::after {\n",
       "  content: \"\";\n",
       "  width: 100%;\n",
       "  border-bottom: 2px solid var(--sklearn-color-text-on-default-background);\n",
       "  flex-grow: 1;\n",
       "}\n",
       "\n",
       "#sk-container-id-1 div.sk-parallel {\n",
       "  display: flex;\n",
       "  align-items: stretch;\n",
       "  justify-content: center;\n",
       "  background-color: var(--sklearn-color-background);\n",
       "  position: relative;\n",
       "}\n",
       "\n",
       "#sk-container-id-1 div.sk-parallel-item {\n",
       "  display: flex;\n",
       "  flex-direction: column;\n",
       "}\n",
       "\n",
       "#sk-container-id-1 div.sk-parallel-item:first-child::after {\n",
       "  align-self: flex-end;\n",
       "  width: 50%;\n",
       "}\n",
       "\n",
       "#sk-container-id-1 div.sk-parallel-item:last-child::after {\n",
       "  align-self: flex-start;\n",
       "  width: 50%;\n",
       "}\n",
       "\n",
       "#sk-container-id-1 div.sk-parallel-item:only-child::after {\n",
       "  width: 0;\n",
       "}\n",
       "\n",
       "/* Serial-specific style estimator block */\n",
       "\n",
       "#sk-container-id-1 div.sk-serial {\n",
       "  display: flex;\n",
       "  flex-direction: column;\n",
       "  align-items: center;\n",
       "  background-color: var(--sklearn-color-background);\n",
       "  padding-right: 1em;\n",
       "  padding-left: 1em;\n",
       "}\n",
       "\n",
       "\n",
       "/* Toggleable style: style used for estimator/Pipeline/ColumnTransformer box that is\n",
       "clickable and can be expanded/collapsed.\n",
       "- Pipeline and ColumnTransformer use this feature and define the default style\n",
       "- Estimators will overwrite some part of the style using the `sk-estimator` class\n",
       "*/\n",
       "\n",
       "/* Pipeline and ColumnTransformer style (default) */\n",
       "\n",
       "#sk-container-id-1 div.sk-toggleable {\n",
       "  /* Default theme specific background. It is overwritten whether we have a\n",
       "  specific estimator or a Pipeline/ColumnTransformer */\n",
       "  background-color: var(--sklearn-color-background);\n",
       "}\n",
       "\n",
       "/* Toggleable label */\n",
       "#sk-container-id-1 label.sk-toggleable__label {\n",
       "  cursor: pointer;\n",
       "  display: block;\n",
       "  width: 100%;\n",
       "  margin-bottom: 0;\n",
       "  padding: 0.5em;\n",
       "  box-sizing: border-box;\n",
       "  text-align: center;\n",
       "}\n",
       "\n",
       "#sk-container-id-1 label.sk-toggleable__label-arrow:before {\n",
       "  /* Arrow on the left of the label */\n",
       "  content: \"▸\";\n",
       "  float: left;\n",
       "  margin-right: 0.25em;\n",
       "  color: var(--sklearn-color-icon);\n",
       "}\n",
       "\n",
       "#sk-container-id-1 label.sk-toggleable__label-arrow:hover:before {\n",
       "  color: var(--sklearn-color-text);\n",
       "}\n",
       "\n",
       "/* Toggleable content - dropdown */\n",
       "\n",
       "#sk-container-id-1 div.sk-toggleable__content {\n",
       "  max-height: 0;\n",
       "  max-width: 0;\n",
       "  overflow: hidden;\n",
       "  text-align: left;\n",
       "  /* unfitted */\n",
       "  background-color: var(--sklearn-color-unfitted-level-0);\n",
       "}\n",
       "\n",
       "#sk-container-id-1 div.sk-toggleable__content.fitted {\n",
       "  /* fitted */\n",
       "  background-color: var(--sklearn-color-fitted-level-0);\n",
       "}\n",
       "\n",
       "#sk-container-id-1 div.sk-toggleable__content pre {\n",
       "  margin: 0.2em;\n",
       "  border-radius: 0.25em;\n",
       "  color: var(--sklearn-color-text);\n",
       "  /* unfitted */\n",
       "  background-color: var(--sklearn-color-unfitted-level-0);\n",
       "}\n",
       "\n",
       "#sk-container-id-1 div.sk-toggleable__content.fitted pre {\n",
       "  /* unfitted */\n",
       "  background-color: var(--sklearn-color-fitted-level-0);\n",
       "}\n",
       "\n",
       "#sk-container-id-1 input.sk-toggleable__control:checked~div.sk-toggleable__content {\n",
       "  /* Expand drop-down */\n",
       "  max-height: 200px;\n",
       "  max-width: 100%;\n",
       "  overflow: auto;\n",
       "}\n",
       "\n",
       "#sk-container-id-1 input.sk-toggleable__control:checked~label.sk-toggleable__label-arrow:before {\n",
       "  content: \"▾\";\n",
       "}\n",
       "\n",
       "/* Pipeline/ColumnTransformer-specific style */\n",
       "\n",
       "#sk-container-id-1 div.sk-label input.sk-toggleable__control:checked~label.sk-toggleable__label {\n",
       "  color: var(--sklearn-color-text);\n",
       "  background-color: var(--sklearn-color-unfitted-level-2);\n",
       "}\n",
       "\n",
       "#sk-container-id-1 div.sk-label.fitted input.sk-toggleable__control:checked~label.sk-toggleable__label {\n",
       "  background-color: var(--sklearn-color-fitted-level-2);\n",
       "}\n",
       "\n",
       "/* Estimator-specific style */\n",
       "\n",
       "/* Colorize estimator box */\n",
       "#sk-container-id-1 div.sk-estimator input.sk-toggleable__control:checked~label.sk-toggleable__label {\n",
       "  /* unfitted */\n",
       "  background-color: var(--sklearn-color-unfitted-level-2);\n",
       "}\n",
       "\n",
       "#sk-container-id-1 div.sk-estimator.fitted input.sk-toggleable__control:checked~label.sk-toggleable__label {\n",
       "  /* fitted */\n",
       "  background-color: var(--sklearn-color-fitted-level-2);\n",
       "}\n",
       "\n",
       "#sk-container-id-1 div.sk-label label.sk-toggleable__label,\n",
       "#sk-container-id-1 div.sk-label label {\n",
       "  /* The background is the default theme color */\n",
       "  color: var(--sklearn-color-text-on-default-background);\n",
       "}\n",
       "\n",
       "/* On hover, darken the color of the background */\n",
       "#sk-container-id-1 div.sk-label:hover label.sk-toggleable__label {\n",
       "  color: var(--sklearn-color-text);\n",
       "  background-color: var(--sklearn-color-unfitted-level-2);\n",
       "}\n",
       "\n",
       "/* Label box, darken color on hover, fitted */\n",
       "#sk-container-id-1 div.sk-label.fitted:hover label.sk-toggleable__label.fitted {\n",
       "  color: var(--sklearn-color-text);\n",
       "  background-color: var(--sklearn-color-fitted-level-2);\n",
       "}\n",
       "\n",
       "/* Estimator label */\n",
       "\n",
       "#sk-container-id-1 div.sk-label label {\n",
       "  font-family: monospace;\n",
       "  font-weight: bold;\n",
       "  display: inline-block;\n",
       "  line-height: 1.2em;\n",
       "}\n",
       "\n",
       "#sk-container-id-1 div.sk-label-container {\n",
       "  text-align: center;\n",
       "}\n",
       "\n",
       "/* Estimator-specific */\n",
       "#sk-container-id-1 div.sk-estimator {\n",
       "  font-family: monospace;\n",
       "  border: 1px dotted var(--sklearn-color-border-box);\n",
       "  border-radius: 0.25em;\n",
       "  box-sizing: border-box;\n",
       "  margin-bottom: 0.5em;\n",
       "  /* unfitted */\n",
       "  background-color: var(--sklearn-color-unfitted-level-0);\n",
       "}\n",
       "\n",
       "#sk-container-id-1 div.sk-estimator.fitted {\n",
       "  /* fitted */\n",
       "  background-color: var(--sklearn-color-fitted-level-0);\n",
       "}\n",
       "\n",
       "/* on hover */\n",
       "#sk-container-id-1 div.sk-estimator:hover {\n",
       "  /* unfitted */\n",
       "  background-color: var(--sklearn-color-unfitted-level-2);\n",
       "}\n",
       "\n",
       "#sk-container-id-1 div.sk-estimator.fitted:hover {\n",
       "  /* fitted */\n",
       "  background-color: var(--sklearn-color-fitted-level-2);\n",
       "}\n",
       "\n",
       "/* Specification for estimator info (e.g. \"i\" and \"?\") */\n",
       "\n",
       "/* Common style for \"i\" and \"?\" */\n",
       "\n",
       ".sk-estimator-doc-link,\n",
       "a:link.sk-estimator-doc-link,\n",
       "a:visited.sk-estimator-doc-link {\n",
       "  float: right;\n",
       "  font-size: smaller;\n",
       "  line-height: 1em;\n",
       "  font-family: monospace;\n",
       "  background-color: var(--sklearn-color-background);\n",
       "  border-radius: 1em;\n",
       "  height: 1em;\n",
       "  width: 1em;\n",
       "  text-decoration: none !important;\n",
       "  margin-left: 1ex;\n",
       "  /* unfitted */\n",
       "  border: var(--sklearn-color-unfitted-level-1) 1pt solid;\n",
       "  color: var(--sklearn-color-unfitted-level-1);\n",
       "}\n",
       "\n",
       ".sk-estimator-doc-link.fitted,\n",
       "a:link.sk-estimator-doc-link.fitted,\n",
       "a:visited.sk-estimator-doc-link.fitted {\n",
       "  /* fitted */\n",
       "  border: var(--sklearn-color-fitted-level-1) 1pt solid;\n",
       "  color: var(--sklearn-color-fitted-level-1);\n",
       "}\n",
       "\n",
       "/* On hover */\n",
       "div.sk-estimator:hover .sk-estimator-doc-link:hover,\n",
       ".sk-estimator-doc-link:hover,\n",
       "div.sk-label-container:hover .sk-estimator-doc-link:hover,\n",
       ".sk-estimator-doc-link:hover {\n",
       "  /* unfitted */\n",
       "  background-color: var(--sklearn-color-unfitted-level-3);\n",
       "  color: var(--sklearn-color-background);\n",
       "  text-decoration: none;\n",
       "}\n",
       "\n",
       "div.sk-estimator.fitted:hover .sk-estimator-doc-link.fitted:hover,\n",
       ".sk-estimator-doc-link.fitted:hover,\n",
       "div.sk-label-container:hover .sk-estimator-doc-link.fitted:hover,\n",
       ".sk-estimator-doc-link.fitted:hover {\n",
       "  /* fitted */\n",
       "  background-color: var(--sklearn-color-fitted-level-3);\n",
       "  color: var(--sklearn-color-background);\n",
       "  text-decoration: none;\n",
       "}\n",
       "\n",
       "/* Span, style for the box shown on hovering the info icon */\n",
       ".sk-estimator-doc-link span {\n",
       "  display: none;\n",
       "  z-index: 9999;\n",
       "  position: relative;\n",
       "  font-weight: normal;\n",
       "  right: .2ex;\n",
       "  padding: .5ex;\n",
       "  margin: .5ex;\n",
       "  width: min-content;\n",
       "  min-width: 20ex;\n",
       "  max-width: 50ex;\n",
       "  color: var(--sklearn-color-text);\n",
       "  box-shadow: 2pt 2pt 4pt #999;\n",
       "  /* unfitted */\n",
       "  background: var(--sklearn-color-unfitted-level-0);\n",
       "  border: .5pt solid var(--sklearn-color-unfitted-level-3);\n",
       "}\n",
       "\n",
       ".sk-estimator-doc-link.fitted span {\n",
       "  /* fitted */\n",
       "  background: var(--sklearn-color-fitted-level-0);\n",
       "  border: var(--sklearn-color-fitted-level-3);\n",
       "}\n",
       "\n",
       ".sk-estimator-doc-link:hover span {\n",
       "  display: block;\n",
       "}\n",
       "\n",
       "/* \"?\"-specific style due to the `<a>` HTML tag */\n",
       "\n",
       "#sk-container-id-1 a.estimator_doc_link {\n",
       "  float: right;\n",
       "  font-size: 1rem;\n",
       "  line-height: 1em;\n",
       "  font-family: monospace;\n",
       "  background-color: var(--sklearn-color-background);\n",
       "  border-radius: 1rem;\n",
       "  height: 1rem;\n",
       "  width: 1rem;\n",
       "  text-decoration: none;\n",
       "  /* unfitted */\n",
       "  color: var(--sklearn-color-unfitted-level-1);\n",
       "  border: var(--sklearn-color-unfitted-level-1) 1pt solid;\n",
       "}\n",
       "\n",
       "#sk-container-id-1 a.estimator_doc_link.fitted {\n",
       "  /* fitted */\n",
       "  border: var(--sklearn-color-fitted-level-1) 1pt solid;\n",
       "  color: var(--sklearn-color-fitted-level-1);\n",
       "}\n",
       "\n",
       "/* On hover */\n",
       "#sk-container-id-1 a.estimator_doc_link:hover {\n",
       "  /* unfitted */\n",
       "  background-color: var(--sklearn-color-unfitted-level-3);\n",
       "  color: var(--sklearn-color-background);\n",
       "  text-decoration: none;\n",
       "}\n",
       "\n",
       "#sk-container-id-1 a.estimator_doc_link.fitted:hover {\n",
       "  /* fitted */\n",
       "  background-color: var(--sklearn-color-fitted-level-3);\n",
       "}\n",
       "</style><div id=\"sk-container-id-1\" class=\"sk-top-container\"><div class=\"sk-text-repr-fallback\"><pre>Pipeline(steps=[(&#x27;step1&#x27;,\n",
       "                 ColumnTransformer(remainder=&#x27;passthrough&#x27;,\n",
       "                                   transformers=[(&#x27;trf&#x27;,\n",
       "                                                  OneHotEncoder(drop=&#x27;first&#x27;,\n",
       "                                                                sparse_output=False),\n",
       "                                                  [&#x27;batting_team&#x27;,\n",
       "                                                   &#x27;bowling_team&#x27;, &#x27;city&#x27;])])),\n",
       "                (&#x27;step2&#x27;, LogisticRegression(solver=&#x27;liblinear&#x27;))])</pre><b>In a Jupyter environment, please rerun this cell to show the HTML representation or trust the notebook. <br />On GitHub, the HTML representation is unable to render, please try loading this page with nbviewer.org.</b></div><div class=\"sk-container\" hidden><div class=\"sk-item sk-dashed-wrapped\"><div class=\"sk-label-container\"><div class=\"sk-label fitted sk-toggleable\"><input class=\"sk-toggleable__control sk-hidden--visually\" id=\"sk-estimator-id-1\" type=\"checkbox\" ><label for=\"sk-estimator-id-1\" class=\"sk-toggleable__label fitted sk-toggleable__label-arrow fitted\">&nbsp;&nbsp;Pipeline<a class=\"sk-estimator-doc-link fitted\" rel=\"noreferrer\" target=\"_blank\" href=\"https://scikit-learn.org/1.4/modules/generated/sklearn.pipeline.Pipeline.html\">?<span>Documentation for Pipeline</span></a><span class=\"sk-estimator-doc-link fitted\">i<span>Fitted</span></span></label><div class=\"sk-toggleable__content fitted\"><pre>Pipeline(steps=[(&#x27;step1&#x27;,\n",
       "                 ColumnTransformer(remainder=&#x27;passthrough&#x27;,\n",
       "                                   transformers=[(&#x27;trf&#x27;,\n",
       "                                                  OneHotEncoder(drop=&#x27;first&#x27;,\n",
       "                                                                sparse_output=False),\n",
       "                                                  [&#x27;batting_team&#x27;,\n",
       "                                                   &#x27;bowling_team&#x27;, &#x27;city&#x27;])])),\n",
       "                (&#x27;step2&#x27;, LogisticRegression(solver=&#x27;liblinear&#x27;))])</pre></div> </div></div><div class=\"sk-serial\"><div class=\"sk-item sk-dashed-wrapped\"><div class=\"sk-label-container\"><div class=\"sk-label fitted sk-toggleable\"><input class=\"sk-toggleable__control sk-hidden--visually\" id=\"sk-estimator-id-2\" type=\"checkbox\" ><label for=\"sk-estimator-id-2\" class=\"sk-toggleable__label fitted sk-toggleable__label-arrow fitted\">&nbsp;step1: ColumnTransformer<a class=\"sk-estimator-doc-link fitted\" rel=\"noreferrer\" target=\"_blank\" href=\"https://scikit-learn.org/1.4/modules/generated/sklearn.compose.ColumnTransformer.html\">?<span>Documentation for step1: ColumnTransformer</span></a></label><div class=\"sk-toggleable__content fitted\"><pre>ColumnTransformer(remainder=&#x27;passthrough&#x27;,\n",
       "                  transformers=[(&#x27;trf&#x27;,\n",
       "                                 OneHotEncoder(drop=&#x27;first&#x27;,\n",
       "                                               sparse_output=False),\n",
       "                                 [&#x27;batting_team&#x27;, &#x27;bowling_team&#x27;, &#x27;city&#x27;])])</pre></div> </div></div><div class=\"sk-parallel\"><div class=\"sk-parallel-item\"><div class=\"sk-item\"><div class=\"sk-label-container\"><div class=\"sk-label fitted sk-toggleable\"><input class=\"sk-toggleable__control sk-hidden--visually\" id=\"sk-estimator-id-3\" type=\"checkbox\" ><label for=\"sk-estimator-id-3\" class=\"sk-toggleable__label fitted sk-toggleable__label-arrow fitted\">trf</label><div class=\"sk-toggleable__content fitted\"><pre>[&#x27;batting_team&#x27;, &#x27;bowling_team&#x27;, &#x27;city&#x27;]</pre></div> </div></div><div class=\"sk-serial\"><div class=\"sk-item\"><div class=\"sk-estimator fitted sk-toggleable\"><input class=\"sk-toggleable__control sk-hidden--visually\" id=\"sk-estimator-id-4\" type=\"checkbox\" ><label for=\"sk-estimator-id-4\" class=\"sk-toggleable__label fitted sk-toggleable__label-arrow fitted\">&nbsp;OneHotEncoder<a class=\"sk-estimator-doc-link fitted\" rel=\"noreferrer\" target=\"_blank\" href=\"https://scikit-learn.org/1.4/modules/generated/sklearn.preprocessing.OneHotEncoder.html\">?<span>Documentation for OneHotEncoder</span></a></label><div class=\"sk-toggleable__content fitted\"><pre>OneHotEncoder(drop=&#x27;first&#x27;, sparse_output=False)</pre></div> </div></div></div></div></div><div class=\"sk-parallel-item\"><div class=\"sk-item\"><div class=\"sk-label-container\"><div class=\"sk-label fitted sk-toggleable\"><input class=\"sk-toggleable__control sk-hidden--visually\" id=\"sk-estimator-id-5\" type=\"checkbox\" ><label for=\"sk-estimator-id-5\" class=\"sk-toggleable__label fitted sk-toggleable__label-arrow fitted\">remainder</label><div class=\"sk-toggleable__content fitted\"><pre>[&#x27;runs_left&#x27;, &#x27;balls_left&#x27;, &#x27;wickets&#x27;, &#x27;total_runs_x&#x27;, &#x27;crr&#x27;, &#x27;rrr&#x27;]</pre></div> </div></div><div class=\"sk-serial\"><div class=\"sk-item\"><div class=\"sk-estimator fitted sk-toggleable\"><input class=\"sk-toggleable__control sk-hidden--visually\" id=\"sk-estimator-id-6\" type=\"checkbox\" ><label for=\"sk-estimator-id-6\" class=\"sk-toggleable__label fitted sk-toggleable__label-arrow fitted\">passthrough</label><div class=\"sk-toggleable__content fitted\"><pre>passthrough</pre></div> </div></div></div></div></div></div></div><div class=\"sk-item\"><div class=\"sk-estimator fitted sk-toggleable\"><input class=\"sk-toggleable__control sk-hidden--visually\" id=\"sk-estimator-id-7\" type=\"checkbox\" ><label for=\"sk-estimator-id-7\" class=\"sk-toggleable__label fitted sk-toggleable__label-arrow fitted\">&nbsp;LogisticRegression<a class=\"sk-estimator-doc-link fitted\" rel=\"noreferrer\" target=\"_blank\" href=\"https://scikit-learn.org/1.4/modules/generated/sklearn.linear_model.LogisticRegression.html\">?<span>Documentation for LogisticRegression</span></a></label><div class=\"sk-toggleable__content fitted\"><pre>LogisticRegression(solver=&#x27;liblinear&#x27;)</pre></div> </div></div></div></div></div></div>"
      ],
      "text/plain": [
       "Pipeline(steps=[('step1',\n",
       "                 ColumnTransformer(remainder='passthrough',\n",
       "                                   transformers=[('trf',\n",
       "                                                  OneHotEncoder(drop='first',\n",
       "                                                                sparse_output=False),\n",
       "                                                  ['batting_team',\n",
       "                                                   'bowling_team', 'city'])])),\n",
       "                ('step2', LogisticRegression(solver='liblinear'))])"
      ]
     },
     "execution_count": 118,
     "metadata": {},
     "output_type": "execute_result"
    }
   ],
   "source": [
    "\n",
    "pipe.fit(X_train,y_train)"
   ]
  },
  {
   "cell_type": "code",
   "execution_count": null,
   "id": "c7e1bd67-70cc-433e-9645-33d74f380ea4",
   "metadata": {},
   "outputs": [],
   "source": []
  },
  {
   "cell_type": "code",
   "execution_count": null,
   "id": "48859dca-2006-4b32-a0ea-02bb59a81d6e",
   "metadata": {},
   "outputs": [],
   "source": []
  },
  {
   "cell_type": "code",
   "execution_count": 137,
   "id": "fb98cc1d-afcd-4f5e-b667-9c3d0a036e81",
   "metadata": {},
   "outputs": [],
   "source": [
    "\n",
    "y_pred = pipe.predict(X_test)"
   ]
  },
  {
   "cell_type": "code",
   "execution_count": 139,
   "id": "4c69ae9b-3fa3-4861-8efa-6bd9bb7ffd7e",
   "metadata": {},
   "outputs": [
    {
     "data": {
      "text/plain": [
       "0.8151375363061678"
      ]
     },
     "execution_count": 139,
     "metadata": {},
     "output_type": "execute_result"
    }
   ],
   "source": [
    "\n",
    "from sklearn.metrics import accuracy_score\n",
    "accuracy_score(y_test,y_pred)"
   ]
  },
  {
   "cell_type": "code",
   "execution_count": 143,
   "id": "ba132c7c-235f-4dff-8ad7-6bfe3126c68b",
   "metadata": {},
   "outputs": [
    {
     "data": {
      "text/plain": [
       "array([0.58174964, 0.41825036])"
      ]
     },
     "execution_count": 143,
     "metadata": {},
     "output_type": "execute_result"
    }
   ],
   "source": [
    "\n",
    "pipe.predict_proba(X_test)[10]\n"
   ]
  },
  {
   "cell_type": "code",
   "execution_count": 145,
   "id": "f2c3bfa6-d38c-41bf-ba1e-1062be6ba737",
   "metadata": {},
   "outputs": [],
   "source": [
    "def match_summary(row):\n",
    "    print(\"Batting Team-\" + row['batting_team'] + \" | Bowling Team-\" + row['bowling_team'] + \" | Target- \" + str(row['total_runs_x']))\n",
    "    \n"
   ]
  },
  {
   "cell_type": "code",
   "execution_count": 147,
   "id": "58753c49-c43f-4255-867e-9c0a3bf205f6",
   "metadata": {},
   "outputs": [],
   "source": [
    "def match_progression(x_df,match_id,pipe):\n",
    "    match = x_df[x_df['match_id'] == match_id]\n",
    "    match = match[(match['ball'] == 6)]\n",
    "    temp_df = match[['batting_team','bowling_team','city','runs_left','balls_left','wickets','total_runs_x','crr','rrr']].dropna()\n",
    "    temp_df = temp_df[temp_df['balls_left'] != 0]\n",
    "    result = pipe.predict_proba(temp_df)\n",
    "    temp_df['lose'] = np.round(result.T[0]*100,1)\n",
    "    temp_df['win'] = np.round(result.T[1]*100,1)\n",
    "    temp_df['end_of_over'] = range(1,temp_df.shape[0]+1)\n",
    "    \n",
    "    target = temp_df['total_runs_x'].values[0]\n",
    "    runs = list(temp_df['runs_left'].values)\n",
    "    new_runs = runs[:]\n",
    "    runs.insert(0,target)\n",
    "    temp_df['runs_after_over'] = np.array(runs)[:-1] - np.array(new_runs)\n",
    "    wickets = list(temp_df['wickets'].values)\n",
    "    new_wickets = wickets[:]\n",
    "    new_wickets.insert(0,10)\n",
    "    wickets.append(0)\n",
    "    w = np.array(wickets)\n",
    "    nw = np.array(new_wickets)\n",
    "    temp_df['wickets_in_over'] = (nw - w)[0:temp_df.shape[0]]\n",
    "    \n",
    "    print(\"Target-\",target)\n",
    "    temp_df = temp_df[['end_of_over','runs_after_over','wickets_in_over','lose','win']]\n",
    "    return temp_df,target\n",
    "    \n"
   ]
  },
  {
   "cell_type": "code",
   "execution_count": 149,
   "id": "35df3d61-b446-4faa-aa1c-aede5932d065",
   "metadata": {},
   "outputs": [
    {
     "name": "stdout",
     "output_type": "stream",
     "text": [
      "Target- 178\n"
     ]
    },
    {
     "data": {
      "text/html": [
       "<div>\n",
       "<style scoped>\n",
       "    .dataframe tbody tr th:only-of-type {\n",
       "        vertical-align: middle;\n",
       "    }\n",
       "\n",
       "    .dataframe tbody tr th {\n",
       "        vertical-align: top;\n",
       "    }\n",
       "\n",
       "    .dataframe thead th {\n",
       "        text-align: right;\n",
       "    }\n",
       "</style>\n",
       "<table border=\"1\" class=\"dataframe\">\n",
       "  <thead>\n",
       "    <tr style=\"text-align: right;\">\n",
       "      <th></th>\n",
       "      <th>end_of_over</th>\n",
       "      <th>runs_after_over</th>\n",
       "      <th>wickets_in_over</th>\n",
       "      <th>lose</th>\n",
       "      <th>win</th>\n",
       "    </tr>\n",
       "  </thead>\n",
       "  <tbody>\n",
       "    <tr>\n",
       "      <th>20790</th>\n",
       "      <td>1</td>\n",
       "      <td>4</td>\n",
       "      <td>0</td>\n",
       "      <td>48.2</td>\n",
       "      <td>51.8</td>\n",
       "    </tr>\n",
       "    <tr>\n",
       "      <th>20798</th>\n",
       "      <td>2</td>\n",
       "      <td>8</td>\n",
       "      <td>0</td>\n",
       "      <td>43.0</td>\n",
       "      <td>57.0</td>\n",
       "    </tr>\n",
       "    <tr>\n",
       "      <th>20804</th>\n",
       "      <td>3</td>\n",
       "      <td>1</td>\n",
       "      <td>0</td>\n",
       "      <td>42.2</td>\n",
       "      <td>57.8</td>\n",
       "    </tr>\n",
       "    <tr>\n",
       "      <th>20810</th>\n",
       "      <td>4</td>\n",
       "      <td>7</td>\n",
       "      <td>1</td>\n",
       "      <td>57.1</td>\n",
       "      <td>42.9</td>\n",
       "    </tr>\n",
       "    <tr>\n",
       "      <th>20816</th>\n",
       "      <td>5</td>\n",
       "      <td>12</td>\n",
       "      <td>0</td>\n",
       "      <td>49.2</td>\n",
       "      <td>50.8</td>\n",
       "    </tr>\n",
       "    <tr>\n",
       "      <th>20822</th>\n",
       "      <td>6</td>\n",
       "      <td>13</td>\n",
       "      <td>0</td>\n",
       "      <td>40.8</td>\n",
       "      <td>59.2</td>\n",
       "    </tr>\n",
       "    <tr>\n",
       "      <th>20828</th>\n",
       "      <td>7</td>\n",
       "      <td>9</td>\n",
       "      <td>0</td>\n",
       "      <td>35.2</td>\n",
       "      <td>64.8</td>\n",
       "    </tr>\n",
       "    <tr>\n",
       "      <th>20836</th>\n",
       "      <td>8</td>\n",
       "      <td>15</td>\n",
       "      <td>0</td>\n",
       "      <td>26.8</td>\n",
       "      <td>73.2</td>\n",
       "    </tr>\n",
       "    <tr>\n",
       "      <th>20842</th>\n",
       "      <td>9</td>\n",
       "      <td>7</td>\n",
       "      <td>0</td>\n",
       "      <td>23.3</td>\n",
       "      <td>76.7</td>\n",
       "    </tr>\n",
       "    <tr>\n",
       "      <th>20849</th>\n",
       "      <td>10</td>\n",
       "      <td>17</td>\n",
       "      <td>0</td>\n",
       "      <td>16.3</td>\n",
       "      <td>83.7</td>\n",
       "    </tr>\n",
       "    <tr>\n",
       "      <th>20855</th>\n",
       "      <td>11</td>\n",
       "      <td>9</td>\n",
       "      <td>1</td>\n",
       "      <td>25.2</td>\n",
       "      <td>74.8</td>\n",
       "    </tr>\n",
       "    <tr>\n",
       "      <th>20861</th>\n",
       "      <td>12</td>\n",
       "      <td>9</td>\n",
       "      <td>0</td>\n",
       "      <td>21.0</td>\n",
       "      <td>79.0</td>\n",
       "    </tr>\n",
       "    <tr>\n",
       "      <th>20867</th>\n",
       "      <td>13</td>\n",
       "      <td>8</td>\n",
       "      <td>0</td>\n",
       "      <td>17.7</td>\n",
       "      <td>82.3</td>\n",
       "    </tr>\n",
       "    <tr>\n",
       "      <th>20873</th>\n",
       "      <td>14</td>\n",
       "      <td>8</td>\n",
       "      <td>0</td>\n",
       "      <td>14.8</td>\n",
       "      <td>85.2</td>\n",
       "    </tr>\n",
       "    <tr>\n",
       "      <th>20879</th>\n",
       "      <td>15</td>\n",
       "      <td>5</td>\n",
       "      <td>1</td>\n",
       "      <td>25.0</td>\n",
       "      <td>75.0</td>\n",
       "    </tr>\n",
       "    <tr>\n",
       "      <th>20886</th>\n",
       "      <td>16</td>\n",
       "      <td>8</td>\n",
       "      <td>1</td>\n",
       "      <td>37.1</td>\n",
       "      <td>62.9</td>\n",
       "    </tr>\n",
       "    <tr>\n",
       "      <th>20892</th>\n",
       "      <td>17</td>\n",
       "      <td>8</td>\n",
       "      <td>2</td>\n",
       "      <td>69.5</td>\n",
       "      <td>30.5</td>\n",
       "    </tr>\n",
       "    <tr>\n",
       "      <th>20898</th>\n",
       "      <td>18</td>\n",
       "      <td>6</td>\n",
       "      <td>1</td>\n",
       "      <td>81.0</td>\n",
       "      <td>19.0</td>\n",
       "    </tr>\n",
       "    <tr>\n",
       "      <th>20904</th>\n",
       "      <td>19</td>\n",
       "      <td>8</td>\n",
       "      <td>2</td>\n",
       "      <td>94.3</td>\n",
       "      <td>5.7</td>\n",
       "    </tr>\n",
       "    <tr>\n",
       "      <th>21037</th>\n",
       "      <td>20</td>\n",
       "      <td>20</td>\n",
       "      <td>1</td>\n",
       "      <td>95.0</td>\n",
       "      <td>5.0</td>\n",
       "    </tr>\n",
       "    <tr>\n",
       "      <th>21045</th>\n",
       "      <td>21</td>\n",
       "      <td>8</td>\n",
       "      <td>0</td>\n",
       "      <td>94.0</td>\n",
       "      <td>6.0</td>\n",
       "    </tr>\n",
       "    <tr>\n",
       "      <th>21051</th>\n",
       "      <td>22</td>\n",
       "      <td>1</td>\n",
       "      <td>0</td>\n",
       "      <td>93.9</td>\n",
       "      <td>6.1</td>\n",
       "    </tr>\n",
       "    <tr>\n",
       "      <th>21057</th>\n",
       "      <td>23</td>\n",
       "      <td>7</td>\n",
       "      <td>1</td>\n",
       "      <td>96.6</td>\n",
       "      <td>3.4</td>\n",
       "    </tr>\n",
       "    <tr>\n",
       "      <th>21063</th>\n",
       "      <td>24</td>\n",
       "      <td>12</td>\n",
       "      <td>0</td>\n",
       "      <td>95.3</td>\n",
       "      <td>4.7</td>\n",
       "    </tr>\n",
       "    <tr>\n",
       "      <th>21069</th>\n",
       "      <td>25</td>\n",
       "      <td>13</td>\n",
       "      <td>0</td>\n",
       "      <td>93.6</td>\n",
       "      <td>6.4</td>\n",
       "    </tr>\n",
       "    <tr>\n",
       "      <th>21075</th>\n",
       "      <td>26</td>\n",
       "      <td>9</td>\n",
       "      <td>0</td>\n",
       "      <td>92.0</td>\n",
       "      <td>8.0</td>\n",
       "    </tr>\n",
       "    <tr>\n",
       "      <th>21083</th>\n",
       "      <td>27</td>\n",
       "      <td>15</td>\n",
       "      <td>0</td>\n",
       "      <td>88.6</td>\n",
       "      <td>11.4</td>\n",
       "    </tr>\n",
       "    <tr>\n",
       "      <th>21089</th>\n",
       "      <td>28</td>\n",
       "      <td>7</td>\n",
       "      <td>0</td>\n",
       "      <td>86.6</td>\n",
       "      <td>13.4</td>\n",
       "    </tr>\n",
       "    <tr>\n",
       "      <th>21096</th>\n",
       "      <td>29</td>\n",
       "      <td>17</td>\n",
       "      <td>0</td>\n",
       "      <td>80.6</td>\n",
       "      <td>19.4</td>\n",
       "    </tr>\n",
       "    <tr>\n",
       "      <th>21102</th>\n",
       "      <td>30</td>\n",
       "      <td>9</td>\n",
       "      <td>1</td>\n",
       "      <td>87.7</td>\n",
       "      <td>12.3</td>\n",
       "    </tr>\n",
       "    <tr>\n",
       "      <th>21108</th>\n",
       "      <td>31</td>\n",
       "      <td>9</td>\n",
       "      <td>0</td>\n",
       "      <td>84.9</td>\n",
       "      <td>15.1</td>\n",
       "    </tr>\n",
       "    <tr>\n",
       "      <th>21114</th>\n",
       "      <td>32</td>\n",
       "      <td>8</td>\n",
       "      <td>0</td>\n",
       "      <td>82.0</td>\n",
       "      <td>18.0</td>\n",
       "    </tr>\n",
       "    <tr>\n",
       "      <th>21120</th>\n",
       "      <td>33</td>\n",
       "      <td>8</td>\n",
       "      <td>0</td>\n",
       "      <td>78.7</td>\n",
       "      <td>21.3</td>\n",
       "    </tr>\n",
       "    <tr>\n",
       "      <th>21126</th>\n",
       "      <td>34</td>\n",
       "      <td>5</td>\n",
       "      <td>1</td>\n",
       "      <td>87.6</td>\n",
       "      <td>12.4</td>\n",
       "    </tr>\n",
       "    <tr>\n",
       "      <th>21133</th>\n",
       "      <td>35</td>\n",
       "      <td>8</td>\n",
       "      <td>1</td>\n",
       "      <td>92.6</td>\n",
       "      <td>7.4</td>\n",
       "    </tr>\n",
       "    <tr>\n",
       "      <th>21139</th>\n",
       "      <td>36</td>\n",
       "      <td>8</td>\n",
       "      <td>2</td>\n",
       "      <td>98.0</td>\n",
       "      <td>2.0</td>\n",
       "    </tr>\n",
       "    <tr>\n",
       "      <th>21145</th>\n",
       "      <td>37</td>\n",
       "      <td>6</td>\n",
       "      <td>1</td>\n",
       "      <td>98.9</td>\n",
       "      <td>1.1</td>\n",
       "    </tr>\n",
       "    <tr>\n",
       "      <th>21151</th>\n",
       "      <td>38</td>\n",
       "      <td>8</td>\n",
       "      <td>2</td>\n",
       "      <td>99.7</td>\n",
       "      <td>0.3</td>\n",
       "    </tr>\n",
       "  </tbody>\n",
       "</table>\n",
       "</div>"
      ],
      "text/plain": [
       "       end_of_over  runs_after_over  wickets_in_over  lose   win\n",
       "20790            1                4                0  48.2  51.8\n",
       "20798            2                8                0  43.0  57.0\n",
       "20804            3                1                0  42.2  57.8\n",
       "20810            4                7                1  57.1  42.9\n",
       "20816            5               12                0  49.2  50.8\n",
       "20822            6               13                0  40.8  59.2\n",
       "20828            7                9                0  35.2  64.8\n",
       "20836            8               15                0  26.8  73.2\n",
       "20842            9                7                0  23.3  76.7\n",
       "20849           10               17                0  16.3  83.7\n",
       "20855           11                9                1  25.2  74.8\n",
       "20861           12                9                0  21.0  79.0\n",
       "20867           13                8                0  17.7  82.3\n",
       "20873           14                8                0  14.8  85.2\n",
       "20879           15                5                1  25.0  75.0\n",
       "20886           16                8                1  37.1  62.9\n",
       "20892           17                8                2  69.5  30.5\n",
       "20898           18                6                1  81.0  19.0\n",
       "20904           19                8                2  94.3   5.7\n",
       "21037           20               20                1  95.0   5.0\n",
       "21045           21                8                0  94.0   6.0\n",
       "21051           22                1                0  93.9   6.1\n",
       "21057           23                7                1  96.6   3.4\n",
       "21063           24               12                0  95.3   4.7\n",
       "21069           25               13                0  93.6   6.4\n",
       "21075           26                9                0  92.0   8.0\n",
       "21083           27               15                0  88.6  11.4\n",
       "21089           28                7                0  86.6  13.4\n",
       "21096           29               17                0  80.6  19.4\n",
       "21102           30                9                1  87.7  12.3\n",
       "21108           31                9                0  84.9  15.1\n",
       "21114           32                8                0  82.0  18.0\n",
       "21120           33                8                0  78.7  21.3\n",
       "21126           34                5                1  87.6  12.4\n",
       "21133           35                8                1  92.6   7.4\n",
       "21139           36                8                2  98.0   2.0\n",
       "21145           37                6                1  98.9   1.1\n",
       "21151           38                8                2  99.7   0.3"
      ]
     },
     "execution_count": 149,
     "metadata": {},
     "output_type": "execute_result"
    }
   ],
   "source": [
    "temp_df,target = match_progression(delivery_df,74,pipe)\n",
    "temp_df"
   ]
  },
  {
   "cell_type": "code",
   "execution_count": 163,
   "id": "01b5c4b6-53b9-45c2-848a-99e358f7c6ac",
   "metadata": {},
   "outputs": [
    {
     "data": {
      "text/plain": [
       "Text(0.5, 1.0, 'Target-178')"
      ]
     },
     "execution_count": 163,
     "metadata": {},
     "output_type": "execute_result"
    },
    {
     "data": {
      "image/png": "[encoded data removed]",
      "text/plain": [
       "<Figure size 1800x800 with 1 Axes>"
      ]
     },
     "metadata": {},
     "output_type": "display_data"
    }
   ],
   "source": [
    "import matplotlib.pyplot as plt\n",
    "plt.figure(figsize=(18,8))\n",
    "plt.plot(temp_df['end_of_over'],temp_df['wickets_in_over'],color='yellow',linewidth=3)\n",
    "plt.plot(temp_df['end_of_over'],temp_df['win'],color='green',linewidth=4)\n",
    "plt.plot(temp_df['end_of_over'],temp_df['lose'],color='red',linewidth=4)\n",
    "plt.bar(temp_df['end_of_over'],temp_df['runs_after_over'])\n",
    "plt.title('Target-' + str(target))"
   ]
  },
  {
   "cell_type": "code",
   "execution_count": 153,
   "id": "7dfc14ca-2fc4-423d-a514-26782ddc294d",
   "metadata": {},
   "outputs": [
    {
     "data": {
      "text/plain": [
       "['Sunrisers Hyderabad',\n",
       " 'Mumbai Indians',\n",
       " 'Royal Challengers Bangalore',\n",
       " 'Kolkata Knight Riders',\n",
       " 'Kings XI Punjab',\n",
       " 'Chennai Super Kings',\n",
       " 'Rajasthan Royals',\n",
       " 'Delhi Capitals']"
      ]
     },
     "execution_count": 153,
     "metadata": {},
     "output_type": "execute_result"
    }
   ],
   "source": [
    "\n",
    "teams"
   ]
  },
  {
   "cell_type": "code",
   "execution_count": 155,
   "id": "351e269b-961a-4d5e-a4b0-7337b32e4c62",
   "metadata": {},
   "outputs": [
    {
     "data": {
      "text/plain": [
       "array(['Hyderabad', 'Bangalore', 'Mumbai', 'Indore', 'Kolkata', 'Delhi',\n",
       "       'Chandigarh', 'Jaipur', 'Chennai', 'Cape Town', 'Port Elizabeth',\n",
       "       'Durban', 'Centurion', 'East London', 'Johannesburg', 'Kimberley',\n",
       "       'Bloemfontein', 'Ahmedabad', 'Cuttack', 'Nagpur', 'Dharamsala',\n",
       "       'Visakhapatnam', 'Pune', 'Raipur', 'Ranchi', 'Abu Dhabi',\n",
       "       'Sharjah', nan, 'Mohali', 'Bengaluru'], dtype=object)"
      ]
     },
     "execution_count": 155,
     "metadata": {},
     "output_type": "execute_result"
    }
   ],
   "source": [
    "\n",
    "delivery_df['city'].unique()"
   ]
  },
  {
   "cell_type": "code",
   "id": "ffcf8f77-12a6-4259-87c2-b782f86d7905",
   "metadata": {
    "jupyter": {
     "is_executing": true
    }
   },
   "source": [
    "\n",
    "import pickle\n",
    "pickle.dump(pipe,open('pipe.pkl','wb'))"
   ],
   "outputs": [],
   "execution_count": null
  },
  {
   "cell_type": "code",
   "id": "484c0ece-cdf7-43e4-a40c-cf9ed53ab029",
   "metadata": {
    "jupyter": {
     "is_executing": true
    }
   },
   "source": [
    "import streamlit as st\n",
    "import pickle\n",
    "import pandas as pd\n",
    "\n",
    "teams = ['Sunrisers Hyderabad',\n",
    " 'Mumbai Indians',\n",
    " 'Royal Challengers Bangalore',\n",
    " 'Kolkata Knight Riders',\n",
    " 'Kings XI Punjab',\n",
    " 'Chennai Super Kings',\n",
    " 'Rajasthan Royals',\n",
    " 'Delhi Capitals']\n",
    "\n",
    "cities = ['Hyderabad', 'Bangalore', 'Mumbai', 'Indore', 'Kolkata', 'Delhi',\n",
    "       'Chandigarh', 'Jaipur', 'Chennai', 'Cape Town', 'Port Elizabeth',\n",
    "       'Durban', 'Centurion', 'East London', 'Johannesburg', 'Kimberley',\n",
    "       'Bloemfontein', 'Ahmedabad', 'Cuttack', 'Nagpur', 'Dharamsala',\n",
    "       'Visakhapatnam', 'Pune', 'Raipur', 'Ranchi', 'Abu Dhabi',\n",
    "       'Sharjah', 'Mohali', 'Bengaluru']\n",
    "\n",
    "pipe = pickle.load(open('pipe.pkl','rb'))\n",
    "st.title('IPL Win Predictor')\n",
    "\n",
    "col1, col2 = st.beta_columns(2)\n",
    "\n",
    "with col1:\n",
    "    batting_team = st.selectbox('Select the batting team',sorted(teams))\n",
    "with col2:\n",
    "    bowling_team = st.selectbox('Select the bowling team',sorted(teams))\n",
    "\n",
    "selected_city = st.selectbox('Select host city',sorted(cities))\n",
    "\n",
    "target = st.number_input('Target')\n",
    "\n",
    "col3,col4,col5 = st.beta_columns(3)\n",
    "\n",
    "with col3:\n",
    "    score = st.number_input('Score')\n",
    "with col4:\n",
    "    overs = st.number_input('Overs completed')\n",
    "with col5:\n",
    "    wickets = st.number_input('Wickets out')\n",
    "\n",
    "if st.button('Predict Probability'):\n",
    "    runs_left = target - score\n",
    "    balls_left = 120 - (overs*6)\n",
    "    wickets = 10 - wickets\n",
    "    crr = score/overs\n",
    "    rrr = (runs_left*6)/balls_left\n",
    "\n",
    "    input_df = pd.DataFrame({'batting_team':[batting_team],'bowling_team':[bowling_team],'city':[selected_city],'runs_left':[runs_left],'balls_left':[balls_left],'wickets':[wickets],'total_runs_x':[target],'crr':[crr],'rrr':[rrr]})\n",
    "\n",
    "    result = pipe.predict_proba(input_df)\n",
    "    loss = result[0][0]\n",
    "    win = result[0][1]\n",
    "    st.header(batting_team + \"- \" + str(round(win*100)) + \"%\")\n",
    "    st.header(bowling_team + \"- \" + str(round(loss*100)) + \"%\")"
   ],
   "outputs": [],
   "execution_count": null
  },
  {
   "metadata": {},
   "cell_type": "code",
   "outputs": [],
   "execution_count": null,
   "source": "",
   "id": "ceb6be0d39b48d37"
  },
  {
   "metadata": {},
   "cell_type": "code",
   "outputs": [],
   "execution_count": null,
   "source": "",
   "id": "869f15d24a0c0678"
  },
  {
   "metadata": {},
   "cell_type": "code",
   "outputs": [],
   "execution_count": null,
   "source": "",
   "id": "4ae34bc573d3c47"
  },
  {
   "metadata": {},
   "cell_type": "code",
   "outputs": [],
   "execution_count": null,
   "source": "",
   "id": "5157910c8af08d20"
  }
 ],
 "metadata": {
  "kernelspec": {
   "display_name": "Python 3 (ipykernel)",
   "language": "python",
   "name": "python3"
  },
  "language_info": {
   "codemirror_mode": {
    "name": "ipython",
    "version": 3
   },
   "file_extension": ".py",
   "mimetype": "text/x-python",
   "name": "python",
   "nbconvert_exporter": "python",
   "pygments_lexer": "ipython3",
   "version": "3.12.4"
  }
 },
 "nbformat": 4,
 "nbformat_minor": 5
}
